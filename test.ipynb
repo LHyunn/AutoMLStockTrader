{
 "cells": [
  {
   "cell_type": "code",
   "execution_count": 2,
   "metadata": {},
   "outputs": [],
   "source": [
    "import pandas as pd\n",
    "from modules.KIS import public_api, stock\n",
    "API = public_api.Public_API()\n",
    "import datetime\n",
    "import time\n",
    "import FinanceDataReader as fdr\n",
    "import pickle\n",
    "from pprint import pprint\n",
    "import os\n",
    "from tqdm import tqdm\n",
    "import pymysql"
   ]
  },
  {
   "cell_type": "code",
   "execution_count": 3,
   "metadata": {},
   "outputs": [],
   "source": [
    "def save_price_info(res, stock_info):\n",
    "    if res[\"rt_cd\"] == \"0\":\n",
    "        stock_code = res[\"output1\"][\"stck_shrn_iscd\"]\n",
    "        for j in range(len(res[\"output2\"])):\n",
    "            try:\n",
    "                Date = res[\"output2\"][j][\"stck_bsop_date\"]\n",
    "                Close = res[\"output2\"][j][\"stck_clpr\"]\n",
    "                Open  = res[\"output2\"][j][\"stck_oprc\"]\n",
    "                High = res[\"output2\"][j][\"stck_hgpr\"]\n",
    "                Low = res[\"output2\"][j][\"stck_lwpr\"]\n",
    "                Volume = res[\"output2\"][j][\"acml_vol\"]\n",
    "                Amount = res[\"output2\"][j][\"acml_tr_pbmn\"]\n",
    "                Change = res[\"output2\"][j][\"prdy_vrss\"]\n",
    "\n",
    "                stock_info.loc[len(stock_info)] = [stock_code, Date, Open, High, Low, Close, Volume, Amount, Change]\n",
    "            except:\n",
    "                continue\n",
    "            \n",
    "    else:\n",
    "        print(f\"Error: {res['rt_cd']}, {res['msg_cd']}\", {res['msg1']})\n",
    "    \n",
    "    return stock_info\n",
    "        \n",
    "    \n",
    "        \n",
    "    \n",
    "\n",
    "    "
   ]
  },
  {
   "cell_type": "code",
   "execution_count": 5,
   "metadata": {},
   "outputs": [
    {
     "name": "stderr",
     "output_type": "stream",
     "text": [
      "  0%|          | 0/3241 [00:00<?, ?it/s]"
     ]
    },
    {
     "name": "stdout",
     "output_type": "stream",
     "text": [
      "356680\n"
     ]
    },
    {
     "name": "stderr",
     "output_type": "stream",
     "text": [
      " 45%|████▍     | 1457/3241 [00:00<00:00, 4052.56it/s]"
     ]
    },
    {
     "name": "stdout",
     "output_type": "stream",
     "text": [
      "442900\n",
      "446150\n"
     ]
    },
    {
     "name": "stderr",
     "output_type": "stream",
     "text": [
      " 57%|█████▋    | 1863/3241 [00:01<00:00, 1532.06it/s]"
     ]
    },
    {
     "name": "stdout",
     "output_type": "stream",
     "text": [
      "005110\n"
     ]
    },
    {
     "name": "stderr",
     "output_type": "stream",
     "text": [
      " 58%|█████▊    | 1894/3241 [01:01<01:19, 16.87it/s]  "
     ]
    },
    {
     "name": "stdout",
     "output_type": "stream",
     "text": [
      "005180\n"
     ]
    },
    {
     "name": "stderr",
     "output_type": "stream",
     "text": [
      " 58%|█████▊    | 1895/3241 [02:01<03:12,  7.00it/s]"
     ]
    },
    {
     "name": "stdout",
     "output_type": "stream",
     "text": [
      "005250\n"
     ]
    },
    {
     "name": "stderr",
     "output_type": "stream",
     "text": [
      " 59%|█████▊    | 1896/3241 [03:02<05:52,  3.81it/s]"
     ]
    },
    {
     "name": "stdout",
     "output_type": "stream",
     "text": [
      "005257\n"
     ]
    },
    {
     "name": "stderr",
     "output_type": "stream",
     "text": [
      " 59%|█████▊    | 1897/3241 [03:43<08:25,  2.66it/s]"
     ]
    },
    {
     "name": "stdout",
     "output_type": "stream",
     "text": [
      "005300\n"
     ]
    },
    {
     "name": "stderr",
     "output_type": "stream",
     "text": [
      " 59%|█████▊    | 1898/3241 [04:43<13:48,  1.62it/s]"
     ]
    },
    {
     "name": "stdout",
     "output_type": "stream",
     "text": [
      "005305\n"
     ]
    },
    {
     "name": "stderr",
     "output_type": "stream",
     "text": [
      " 59%|█████▊    | 1899/3241 [05:37<20:32,  1.09it/s]"
     ]
    },
    {
     "name": "stdout",
     "output_type": "stream",
     "text": [
      "005320\n"
     ]
    },
    {
     "name": "stderr",
     "output_type": "stream",
     "text": [
      " 59%|█████▊    | 1900/3241 [06:16<27:23,  1.23s/it]"
     ]
    },
    {
     "name": "stdout",
     "output_type": "stream",
     "text": [
      "005360\n"
     ]
    },
    {
     "name": "stderr",
     "output_type": "stream",
     "text": [
      " 59%|█████▊    | 1901/3241 [07:14<41:49,  1.87s/it]"
     ]
    },
    {
     "name": "stdout",
     "output_type": "stream",
     "text": [
      "005380\n"
     ]
    }
   ],
   "source": [
    "stock_code_list = stock.get_stock_list()\n",
    "#숫자로 이루어진 종목코드만 추출\n",
    "stock_code_list = [x for x in stock_code_list if x.isdigit()]\n",
    "\n",
    "for stock_code in tqdm(stock_code_list):\n",
    "    if os.path.exists(f\"/app/modules/KIS/Data/stock_price/{stock_code}.csv\"):\n",
    "        continue\n",
    "    try:\n",
    "        print(stock_code)\n",
    "        stock_info = pd.DataFrame(columns=[\"Stock_Code\",\"Date\", \"Open\", \"High\", \"Low\", \"Close\", \"Volume\", \"Amount\", \"Change\"])\n",
    "        today = datetime.datetime.today()\n",
    "        str_today = today.strftime(\"%Y%m%d\")\n",
    "        first_date = (datetime.datetime.strptime(str_today, \"%Y%m%d\") - datetime.timedelta(days=140)).strftime(\"%Y%m%d\")\n",
    "        listing_date = stock.get_listing_date(stock_code)\n",
    "        while datetime.datetime.strptime(str_today, \"%Y%m%d\") > datetime.datetime.strptime(str(listing_date), \"%Y%m%d\"):\n",
    "            res = API.국내주식기간별시세(stock_code, first_date, str_today)\n",
    "            time.sleep(0.05)\n",
    "            history_len = len(stock_info)\n",
    "            stock_info = save_price_info(res, stock_info)\n",
    "            if stock_info is False:\n",
    "                break\n",
    "            if res[\"rt_cd\"] == \"0\":\n",
    "                str_today = first_date\n",
    "                first_date = (datetime.datetime.strptime(str_today, \"%Y%m%d\") - datetime.timedelta(days=100)).strftime(\"%Y%m%d\")\n",
    "            else:\n",
    "                break\n",
    "            if history_len == len(stock_info):\n",
    "                break\n",
    "    except:\n",
    "        pass\n",
    "    stock_info.to_csv(f\"/app/modules/KIS/Data/stock_price/{stock_code}.csv\", index=False)\n",
    "                \n",
    "    \n",
    "    \n",
    "    \n",
    "    \n",
    "\n",
    "    "
   ]
  },
  {
   "cell_type": "code",
   "execution_count": 2,
   "metadata": {},
   "outputs": [],
   "source": [
    "connection = pymysql.connect(host='daisnas.synology.me',\n",
    "                             user='dns05018',\n",
    "                             password='ThlSLoVE77&&',\n",
    "                             database='AutoMLStockTrader',\n",
    "                             port=18310)\n",
    "\n",
    "                             "
   ]
  },
  {
   "cell_type": "code",
   "execution_count": null,
   "metadata": {},
   "outputs": [],
   "source": [
    "stock_code_list = stock.get_stock_list()\n",
    "#숫자로 이루어진 종목코드만 추출\n",
    "stock_code_list = [x for x in stock_code_list if x.isdigit()]\n",
    "\n",
    "with connection.cursor() as cursor:\n",
    "    \n",
    "    for stock_code in tqdm(stock_code_list):\n",
    "        stock_df = pd.read_csv(f\"/app/modules/KIS/Data/stock_price/{stock_code}.csv\")\n",
    "        stock_df = stock_df.sort_values(by=\"Date\", ascending=True)\n",
    "        stock_df = stock_df.reset_index(drop=True)\n",
    "        stock_df[\"Date\"] = stock_df[\"Date\"].apply(lambda x: datetime.datetime.strptime(str(x), \"%Y%m%d\"))\n",
    "        stock_df[\"Date\"] = stock_df[\"Date\"].apply(lambda x: x.strftime(\"%Y-%m-%d\"))\n",
    "        stock_df.columns = [\"stock_code\", \"date\", \"open\", \"high\", \"low\", \"close\", \"volume\", \"amount\", \"price_change\"]\n",
    "        #컬럼 순서 변경\n",
    "        stock_df = stock_df[[\"date\", \"stock_code\", \"open\", \"high\", \"low\", \"close\", \"volume\", \"amount\", \"price_change\"]]\n",
    "\n",
    "        \n",
    "        \n",
    "    \n",
    "    \n",
    "    \n",
    "    \n",
    "    \n",
    "    "
   ]
  },
  {
   "cell_type": "code",
   "execution_count": null,
   "metadata": {},
   "outputs": [],
   "source": [
    "stock_code_list = stock.get_stock_list()\n",
    "#숫자로 이루어진 종목코드만 추출\n",
    "stock_code_list = [x for x in stock_code_list if x.isdigit()]\n",
    "stock_code_list = []\n",
    "with connection.cursor() as cursor:\n",
    "    \n",
    "    for stock_code in tqdm(stock_code_list):\n",
    "        stock_df = pd.read_csv(f\"/app/modules/KIS/Data/stock_price/{stock_code}.csv\")\n",
    "        stock_df.drop_duplicates(subset=[\"Date\"], inplace=True)\n",
    "        stock_df = stock_df.sort_values(by=\"Date\", ascending=True)\n",
    "        stock_df = stock_df.reset_index(drop=True)\n",
    "        stock_df[\"Date\"] = stock_df[\"Date\"].apply(lambda x: datetime.datetime.strptime(str(x), \"%Y%m%d\"))\n",
    "        stock_df[\"Date\"] = stock_df[\"Date\"].apply(lambda x: x.strftime(\"%Y-%m-%d\"))\n",
    "        \"\"\"stock_df.columns = [\"stock_code\", \"date\", \"open\", \"high\", \"low\", \"close\", \"volume\", \"amount\", \"price_change\"]\n",
    "        #컬럼 순서 변경\n",
    "        stock_df = stock_df[[\"date\", \"stock_code\", \"open\", \"high\", \"low\", \"close\", \"volume\", \"amount\", \"price_change\"]]\"\"\"\n",
    "        for i in range(len(stock_df)):\n",
    "            sql = '''\n",
    "            INSERT INTO KOREA_STOCK_PRICE (date, stock_code, open, high, low, close, volume, amount, price_change)\n",
    "            VALUES (%s, %s, %s, %s, %s, %s, %s, %s, %s)\n",
    "            '''\n",
    "            cursor.execute(sql, (stock_df[\"Date\"][i], str(stock_df[\"Stock_Code\"][i]), stock_df[\"Open\"][i], stock_df[\"High\"][i], stock_df[\"Low\"][i], stock_df[\"Close\"][i], stock_df[\"Volume\"][i], stock_df[\"Amount\"][i], stock_df[\"Change\"][i]))\n",
    "        connection.commit()\n",
    "        \n",
    "connection.close()\n",
    "        \n",
    "    \n",
    "    \n",
    "    \n",
    "    \n",
    "    \n",
    "    "
   ]
  },
  {
   "cell_type": "code",
   "execution_count": 3,
   "metadata": {},
   "outputs": [],
   "source": [
    "#KOREA_STOCK_PRICE 테이블의 내용을 모두 삭제\n",
    "with connection.cursor() as cursor:\n",
    "    sql = '''\n",
    "    DELETE FROM KOREA_STOCK_PRICE\n",
    "    '''\n",
    "    cursor.execute(sql)\n",
    "    connection.commit()\n",
    "    "
   ]
  },
  {
   "cell_type": "code",
   "execution_count": 4,
   "metadata": {},
   "outputs": [
    {
     "name": "stderr",
     "output_type": "stream",
     "text": [
      " 49%|████▉     | 1585/3241 [00:05<00:02, 588.33it/s]"
     ]
    },
    {
     "name": "stdout",
     "output_type": "stream",
     "text": [
      "356680 삭제\n"
     ]
    },
    {
     "name": "stderr",
     "output_type": "stream",
     "text": [
      " 51%|█████     | 1644/3241 [00:05<00:03, 504.08it/s]"
     ]
    },
    {
     "name": "stdout",
     "output_type": "stream",
     "text": [
      "442900 삭제\n",
      "446150 삭제\n"
     ]
    },
    {
     "name": "stderr",
     "output_type": "stream",
     "text": [
      "100%|██████████| 3241/3241 [00:06<00:00, 490.83it/s]"
     ]
    },
    {
     "name": "stdout",
     "output_type": "stream",
     "text": [
      "005110 삭제\n",
      "005180 삭제\n",
      "005250 삭제\n",
      "005257 삭제\n",
      "005300 삭제\n",
      "005305 삭제\n",
      "005320 삭제\n",
      "005360 삭제\n",
      "005380 삭제\n",
      "005385 삭제\n",
      "005387 삭제\n",
      "005389 삭제\n",
      "005390 삭제\n",
      "005420 삭제\n",
      "005430 삭제\n",
      "005440 삭제\n",
      "005490 삭제\n",
      "005500 삭제\n",
      "005610 삭제\n",
      "005680 삭제\n",
      "005690 삭제\n",
      "005720 삭제\n",
      "005725 삭제\n",
      "005740 삭제\n",
      "005745 삭제\n",
      "005750 삭제\n",
      "005800 삭제\n",
      "005810 삭제\n",
      "005820 삭제\n",
      "005830 삭제\n",
      "005850 삭제\n",
      "005870 삭제\n",
      "005880 삭제\n",
      "005930 삭제\n",
      "005935 삭제\n",
      "005940 삭제\n",
      "005945 삭제\n",
      "005950 삭제\n",
      "005960 삭제\n",
      "005965 삭제\n",
      "006040 삭제\n",
      "006060 삭제\n"
     ]
    },
    {
     "name": "stderr",
     "output_type": "stream",
     "text": [
      "\n"
     ]
    }
   ],
   "source": [
    "stock_code_list = stock.get_stock_list()\n",
    "#숫자로 이루어진 종목코드만 추출\n",
    "stock_code_list = [x for x in stock_code_list if x.isdigit()]\n",
    "for stock_code in tqdm(stock_code_list):\n",
    "    if os.path.exists(f\"/app/modules/KIS/Data/stock_price/{stock_code}.csv\"):\n",
    "        df = pd.read_csv(f\"/app/modules/KIS/Data/stock_price/{stock_code}.csv\")\n",
    "        #중복된 데이터 삭제\n",
    "        df.drop_duplicates(subset=[\"Date\"], inplace=True)\n",
    "        #10줄 이하면 .csv 파일 삭제\n",
    "        if len(df) < 10:\n",
    "            os.remove(f\"/app/modules/KIS/Data/stock_price/{stock_code}.csv\")\n",
    "            print(f\"{stock_code} 삭제\")"
   ]
  },
  {
   "cell_type": "code",
   "execution_count": null,
   "metadata": {},
   "outputs": [],
   "source": []
  }
 ],
 "metadata": {
  "kernelspec": {
   "display_name": "Python 3",
   "language": "python",
   "name": "python3"
  },
  "language_info": {
   "codemirror_mode": {
    "name": "ipython",
    "version": 3
   },
   "file_extension": ".py",
   "mimetype": "text/x-python",
   "name": "python",
   "nbconvert_exporter": "python",
   "pygments_lexer": "ipython3",
   "version": "3.8.10"
  },
  "orig_nbformat": 4
 },
 "nbformat": 4,
 "nbformat_minor": 2
}
